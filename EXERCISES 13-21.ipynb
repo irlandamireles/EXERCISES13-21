{
 "cells": [
  {
   "cell_type": "markdown",
   "metadata": {},
   "source": [
    "# EXERCISE 13 \n",
    "   ## Parameters, Unpacking, Variables\n"
   ]
  },
  {
   "cell_type": "markdown",
   "metadata": {},
   "source": [
    "### In this exercise we will cover one more input method you can use to pass variables to a script and in the online 1 we have what’s called an ”import. ”This is how you add features to your script from the Python feature set.\n",
    "\n"
   ]
  },
  {
   "cell_type": "code",
   "execution_count": 1,
   "metadata": {},
   "outputs": [
    {
     "name": "stdout",
     "output_type": "stream",
     "text": [
      "The script is called: C:\\Users\\Irlanda\\Anaconda3\\lib\\site-packages\\ipykernel_launcher.py\n",
      "Your first variable is: -f\n",
      "Your second variable is: C:\\Users\\Irlanda\\AppData\\Roaming\\jupyter\\runtime\\kernel-8beaccf9-583d-447f-8aed-c3d2d338717f.json\n"
     ]
    }
   ],
   "source": [
    "from sys import argv \n",
    "# read the WYSS section for how to run this \n",
    "script, first, second = argv\n",
    "\n",
    "print(\"The script is called:\", script) \n",
    "print(\"Your first variable is:\", first) \n",
    "print(\"Your second variable is:\", second)\n"
   ]
  },
  {
   "cell_type": "markdown",
   "metadata": {},
   "source": [
    "# EXERCISE 14"
   ]
  },
  {
   "cell_type": "markdown",
   "metadata": {},
   "source": [
    "###  This uses argv and input together to ask the user something specific. We make a variable prompt that is set to the prompt we want, and we give that to input instead of typing it over and over. Now if we want to make the prompt something else, we just change it in this one spot and rerun the script. "
   ]
  },
  {
   "cell_type": "code",
   "execution_count": null,
   "metadata": {},
   "outputs": [],
   "source": [
    "from sys import argv\n",
    "\n",
    "script, cesar, one = argv\n",
    "prompt = '> '\n",
    "\n",
    "print(f\"Hi {cesar}, I'm the {script} script.\")\n",
    "print(\"I'd like to ask you a few questions.\")\n",
    "print(f\"Do you like me {cesar}?\")\n",
    "likes = input(prompt)\n",
    "\n",
    "print(f\"Where do you live {cesar}?\")\n",
    "lives = input(prompt)\n",
    "\n",
    "print(\"What kind of computer do you have?\")\n",
    "computer = input(prompt)\n",
    "\n",
    "print(f\"\"\"\n",
    "Alrigth, so you said {likes} about liking me.\n",
    "You live in {lives}. Not sure where that is.\n",
    "And you have a {computer} computer. Nice.\n",
    "\"\"\")"
   ]
  },
  {
   "cell_type": "markdown",
   "metadata": {},
   "source": [
    "# EXERCISE 15"
   ]
  },
  {
   "cell_type": "markdown",
   "metadata": {},
   "source": [
    "### This exercise involves writing two files.  This second filem isn’t a script but aplain text file we’ll be reading in the script. "
   ]
  },
  {
   "cell_type": "code",
   "execution_count": null,
   "metadata": {},
   "outputs": [],
   "source": [
    "from sys import argv\n",
    "\n",
    "script, filename, one = argv\n",
    "\n",
    "txt = open(filename)\n",
    "\n",
    "print(f\"Here is your file {filename}:\")\n",
    "print(txt.read())\n",
    "\n",
    "print(\"Type the filename again:\")\n",
    "file_again = input('> ')\n",
    "\n",
    "txt_again = open(file_again)\n",
    "\n",
    "print(txt_again.read())\n"
   ]
  },
  {
   "cell_type": "markdown",
   "metadata": {},
   "source": [
    "# EXERCISE 16"
   ]
  },
  {
   "cell_type": "markdown",
   "metadata": {},
   "source": [
    "### In this code I write takes a parameter of a string you want to write to the file.\n"
   ]
  },
  {
   "cell_type": "code",
   "execution_count": null,
   "metadata": {},
   "outputs": [],
   "source": [
    "from sys import argv\n",
    "\n",
    "script, filename, one = argv\n",
    "\n",
    "print(f\"We're going to erase {filename}.\") \n",
    "print(\"If you don't want that, hit CTRL-C (^C).\") \n",
    "print(\"If you do want that, hit RETURN.\")\n",
    "\n",
    "input(\"?\")\n",
    "\n",
    "print(\"Opening the file...\") \n",
    "target = open(filename, 'w')\n",
    "\n",
    "print(\"Truncating the file. Goodbye!\") \n",
    "target.truncate()\n",
    "\n",
    "print(\"Now I'm going to ask you for three lines.\")\n",
    "\n",
    "line1 = input(\"line 1: \") \n",
    "line2 = input(\"line 2: \") \n",
    "line3 = input(\"line 3: \")\n",
    "\n",
    "\n",
    "print(\"I'm going to write these to the file.\")\n",
    "\n",
    "\n",
    "target.write(line1) \n",
    "target.write(\"\\n\") \n",
    "target.write(line2) \n",
    "target.write(\"\\n\") \n",
    "target.write(line3) \n",
    "target.write(\"\\n\")\n",
    "\n",
    "\n",
    "print(\"And finally, we close it.\") \n",
    "target.close()\n",
    "\n"
   ]
  },
  {
   "cell_type": "markdown",
   "metadata": {},
   "source": [
    "# EXERCISE 17"
   ]
  },
  {
   "cell_type": "markdown",
   "metadata": {},
   "source": [
    "### The \"import\" is another command named \"exists\". This returns True if a file exists, based on its name in a string as an argument. It returns False if not. We’ll be using this function in the second half of this book to do lots of things, but right now you should see how you can import it.\n"
   ]
  },
  {
   "cell_type": "code",
   "execution_count": null,
   "metadata": {},
   "outputs": [],
   "source": [
    "from sys import argv\n",
    "from os.path import exists\n",
    "\n",
    "scrip, from_file, to_file = argv\n",
    "\n",
    "print(f\"Copying from {from_file} to {to_file}\")\n",
    "\n",
    "# we could do these two on one line, how?\n",
    "in_file = open(from_file)\n",
    "indata = in_file.read()\n",
    "\n",
    "print(f\"The input file is {len(indata)} bytes long\")\n",
    "\n",
    "print(f\"Does the output file exists? {exists(to_file)}\")\n",
    "print(\"Ready, hit RETURN to continue, CTRL-C to abort.\")\n",
    "input()\n",
    "\n",
    "out_file = open(to_file, 'w')\n",
    "out_file.write(indata)\n",
    "\n",
    "print(\"Alright, all done.\")\n",
    "\n",
    "out_file.close()\n",
    "in_file.close()"
   ]
  },
  {
   "cell_type": "markdown",
   "metadata": {},
   "source": [
    "# EXERCISE 18"
   ]
  },
  {
   "cell_type": "markdown",
   "metadata": {},
   "source": [
    "### Names, variables, code and functions, with all these things we can create a code for anything. We need all things parts for make a code.  "
   ]
  },
  {
   "cell_type": "code",
   "execution_count": null,
   "metadata": {},
   "outputs": [],
   "source": [
    " def print_two(*args):\n",
    "    arg1, arg2 = args\n",
    "    print(f\"arg1: {arg1}, arg2: {arg2}\")\n",
    "\n",
    "def print_two_again(arg1, arg2):\n",
    "    print(f\"arg1: {arg1}, arg2: {arg2}\")\n",
    "\n",
    "def print_one(arg1):\n",
    "    print(f\"arg1: {arg1}\")\n",
    "\n",
    "def print_none():\n",
    "    print(\"I have something'.\")\n",
    "\n",
    "print_two(\"Red\",\"Blue\")\n",
    " print_two_again(\"Red\",\"Blue\")\n",
    "    print_one(\"First!\")\n",
    "    print_none()"
   ]
  },
  {
   "cell_type": "markdown",
   "metadata": {},
   "source": [
    "# EXERCISE 19"
   ]
  },
  {
   "cell_type": "markdown",
   "metadata": {},
   "source": [
    "### Functions and variables are really important if we can make a program that calculates something. "
   ]
  },
  {
   "cell_type": "code",
   "execution_count": null,
   "metadata": {},
   "outputs": [],
   "source": [
    "def cake_and_coca (cake_count, bottle_of_coca):\n",
    "    print(f\"You have {cake_count} cake!\")\n",
    "    print(f\"You have {bottle_of_coca} bottle of coca!\")\n",
    "    print(\"Man that's enough for a party!\")\n",
    "    print(\"Get a blanket.\\n\")\n",
    "\n",
    "\n",
    "    print(\"We can just give you the numbers:\")\n",
    "    cake_and_coca (20, 30)\n",
    "\n",
    "\n",
    "    print(\"OR, we can use variables from our script:\")\n",
    "    amount_of_cake = 10\n",
    "    amount_of_coca = 50\n",
    "\n",
    "    cake_and_coca (amount_of_cake, amount_of_coca)\n",
    "\n",
    "    print(\"We can even do math inside too:\")\n",
    "    cake_and_coca (10 + 20, 5 + 6)\n",
    "\n",
    "\n",
    "    print(\"And we can combine both:\")\n",
    "    cake_and_coca (amount_of_cake + 100, amount_of_coca + 1000)"
   ]
  },
  {
   "cell_type": "markdown",
   "metadata": {},
   "source": [
    "# EXERCISE 20"
   ]
  },
  {
   "cell_type": "markdown",
   "metadata": {},
   "source": [
    "### FUNCTIONS AND FILES\n",
    "\n",
    "### File is a named location on disk to store related information. It is used to permanently store data in a non-volatile memory (e.g. hard disk). We use files for future use of the data. When we want to read from or write to a file we need to open it first. When we are done, it needs to be closed, so that resources that are tied with the file are freed"
   ]
  },
  {
   "cell_type": "code",
   "execution_count": null,
   "metadata": {},
   "outputs": [],
   "source": [
    "from sys import argv\n",
    "\n",
    " script, input_file = argv\n",
    "\n",
    "     def print_all(f):\n",
    "        print(f.read())\n",
    "        def rewind(f):\n",
    "            f.seek(0)\n",
    "    def print_a_line(line_count, f):\n",
    "print(line_count, f.readline())\n",
    "\n",
    " current_file = open(input_file)\n",
    "print(\"First let's print the whole file:\\n\")\n",
    "\n",
    "print_all(current_file)\n",
    "print(\"Now let's rewind, kind of like a tape.\")\n",
    " rewind(current_file)\n",
    "\n",
    "print(\"Let's print three lines:\")\n",
    "\n",
    "current_line = 1\n",
    "print_a_line(current_line, current_file)\n",
    "\n",
    "current_line = current_line + 1\n",
    "print_a_line(current_line, current_file)\n",
    "\n",
    "current_line = current_line + 1\n",
    "print_a_line(current_line, current_file)"
   ]
  },
  {
   "cell_type": "markdown",
   "metadata": {},
   "source": [
    "# EXERCISE 21"
   ]
  },
  {
   "cell_type": "code",
   "execution_count": null,
   "metadata": {},
   "outputs": [],
   "source": [
    "def add(a, b):\n",
    "    print(f\"ADDING {a} + {b}\")\n",
    "return a + b\n",
    "def subtract(a, b):\n",
    "print(f\"SUBTRACTING {a} - {b}\")\n",
    "return a - b\n",
    "\n",
    "def multiply(a, b):\n",
    "print(f\"MULTIPLYING {a} * {b}\")\n",
    "return a * b\n",
    "def divide(a, b):\n",
    "print(f\"DIVIDING {a} / {b}\")\n",
    "return a / b\n",
    "\n",
    "print(\"We can do something funny!\") \n",
    "\n",
    "Tacos= add(30, 5)\n",
    "Tostadas= subtract(78, 4)\n",
    "Flautas= multiply(90, 2)\n",
    "Migada = divide(100, 2)\n",
    "\n",
    "print(f\"Tacos: {tacos}, Tostadas: {tostadas}, Flautas: {flautas}, Migada: {migada}\")\n",
    "\n",
    "print(\"Check the most funny part.\")\n",
    "\n",
    "what = add(tacos, subtract(tostadas, multiply(flautas, divide(migada, 2))))\n",
    "print(\"That becomes: \", what, \"Can you do it by hand?\")"
   ]
  },
  {
   "cell_type": "code",
   "execution_count": null,
   "metadata": {},
   "outputs": [],
   "source": []
  },
  {
   "cell_type": "markdown",
   "metadata": {},
   "source": [
    "# EXCERCISE 40"
   ]
  },
  {
   "cell_type": "markdown",
   "metadata": {},
   "source": [
    "### This is the code:"
   ]
  },
  {
   "cell_type": "code",
   "execution_count": null,
   "metadata": {},
   "outputs": [],
   "source": [
    "mystuff = {'apple': \"I AM APPLES!\"} \n",
    "print(mystuff['apple'])\n",
    "\n",
    "# this goes in mystuff.py 2 \n",
    "def apple():\n",
    "    print(\"I AM APPLES!\")\n",
    "\n",
    "import mystuff \n",
    "mystuff.apple()\n",
    "\n",
    "def apple(): \n",
    "    print(\"I AM APPLES!\")\n",
    "\n",
    "# this is just a variable \n",
    "tangerine = \"Living reflection of a dream\"\n",
    "\n",
    "import mystuff\n",
    "mystuff.apple() \n",
    "print(mystuff.tangerine)\n",
    "\n",
    "mystuff['apple'] # get apple from dict \n",
    "mystuff.apple() # get apple from the module \n",
    "mystuff.tangerine # same thing, it's just a variable\n",
    "\n",
    "class MyStuff(object):\n",
    "\n",
    "def __init__(self): \n",
    "self.tangerine = \"And now a thousand years between\"\n",
    "def apple(self): \n",
    "print(\"I AM CLASSY APPLES!\")\n",
    "\n"
   ]
  },
  {
   "cell_type": "code",
   "execution_count": null,
   "metadata": {},
   "outputs": [],
   "source": [
    "class Song(object):\n",
    "\n",
    "def __init__(self, lyrics): \n",
    "self.lyrics = lyrics\n",
    "\n",
    "def sing_me_a_song(self): \n",
    "    for line in self.lyrics: \n",
    "        print(line)\n",
    "\n",
    "happy_bday = Song([\"Happy birthday to you\", \n",
    "                   \"I don't want to get sued\", \n",
    "                   \"So I'll stop right there\"])\n",
    "\n",
    "bulls_on_parade = Song([\"They rally around tha family\", \n",
    "                        \"With pockets full of shells\"])\n",
    "\n",
    "happy_bday.sing_me_a_song()\n",
    "bulls_on_parade.sing_me_a_song()"
   ]
  },
  {
   "cell_type": "markdown",
   "metadata": {},
   "source": [
    "# EXERCISE 41"
   ]
  },
  {
   "cell_type": "markdown",
   "metadata": {},
   "source": [
    "### In this code I see ”object oriented.” What I’ll do is give you a small set of words with definitions you need to know."
   ]
  },
  {
   "cell_type": "code",
   "execution_count": null,
   "metadata": {},
   "outputs": [],
   "source": [
    "import random \n",
    "from urllib.request import urlopen \n",
    "import sys\n",
    "\n",
    "WORD_URL = \"http://learncodethehardway.org/words.txt\" \n",
    "WORDS = []\n",
    "\n",
    "PHRASES = { \n",
    "    \"class %%%(%%%):\": \n",
    "           \"Make a class named %%% that is-a %%%.\", \n",
    "    \"class %%%(object):\\n\\tdef __init__(self, ***)\" : \n",
    "    \"class %%% has-a __init__ that takes self and *** params.\", \n",
    "    \"class %%%(object):\\n\\tdef ***(self, @@@)\": \n",
    "    \"class %%% has-a function *** that takes self and @@@ params.\", \n",
    "    \"*** = %%%()\": \n",
    "    \"Set *** to an instance of class %%%.\", \n",
    "    \"***.***(@@@)\": \n",
    "    \"From *** get the *** function, call it with params self, @@@.\", \n",
    "    \"***.*** = '***'\": \n",
    "    \"From *** get the *** attribute and set it to '***'.\" \n",
    "}\n",
    "\n",
    "# do they want to drill phrases first \n",
    "if len(sys.argv) == 2 and sys.argv[1] == \"english\": \n",
    "    PHRASE_FIRST = True \n",
    "else: \n",
    "    PHRASE_FIRST = False\n",
    "    \n",
    "# load up the words from the website \n",
    "for word in urlopen(WORD_URL).readlines(): \n",
    "    WORDS.append(str(word.strip(), encoding=\"utf-8\"))\n",
    "\n",
    "def convert(snippet, phrase): \n",
    "    class_names = [w.capitalize() for w in\n",
    "                   \n",
    "                        random.sample(WORDS, snippet.count(\"%%%\"))] \n",
    "other_names = random.sample(WORDS, snippet.count(\"***\")) \n",
    "results = [] \n",
    "param_names = []\n",
    "\n",
    "for i in range(0, snippet.count(\"@@@\")): \n",
    "    param_count = random.randint(1,3) \n",
    "    param_names.append(', '.join( \n",
    "        random.sample(WORDS, param_count)))\n",
    "\n",
    "for sentence in snippet, phrase: \n",
    "    result = sentence[:]\n",
    "\n",
    "    # fake class names \n",
    "    for word in class_names: \n",
    "        result = result.replace(\"%%%\", word, 1)\n",
    "\n",
    "    # fake other names \n",
    "    for word in other_names: \n",
    "        result = result.replace(\"***\", word, 1)\n",
    "\n",
    "    # fake parameter lists \n",
    "    for word in param_names: \n",
    "        result = result.replace(\"@@@\", word, 1)\n",
    "        \n",
    "    results.append(result)           \n",
    "                   \n",
    "                   \n",
    "# keep going until they hit CTRL-D\n",
    "try:  \n",
    "    while True: \n",
    "        snippets = list(PHRASES.keys()) \n",
    "        random.shuffle(snippets)\n",
    "\n",
    "        for snippet in snippets: \n",
    "            phrase = PHRASES[snippet] \n",
    "            question, answer = convert(snippet, phrase) \n",
    "            if PHRASE_FIRST: \n",
    "                question, answer = answer, question\n",
    "\n",
    "            print(question)\n",
    "   \n",
    "                   \n",
    "            input(\"> \") \n",
    "            print(f\"ANSWER: {answer}\\n\\n\") \n",
    "        \n",
    "except EOFError: \n",
    "    print(\"\\nBye\")\n",
    "   \n",
    "                   \n",
    "                   "
   ]
  },
  {
   "cell_type": "markdown",
   "metadata": {},
   "source": [
    "# EXERCISE 42"
   ]
  },
  {
   "cell_type": "code",
   "execution_count": null,
   "metadata": {},
   "outputs": [],
   "source": [
    "class Animal(object):\n",
    "pass\n",
    "\n",
    "## ??\n",
    "class elephant(Animal):\n",
    "\n",
    "def __init__(self, name):\n",
    "## ??\n",
    "self.name = name\n",
    "\n",
    "## ??\n",
    "class bird(Animal):\n",
    "\n",
    "def __init__(self, name):\n",
    "## ??\n",
    "self.name = name\n",
    "\n",
    "## ??\n",
    "class Person(object):\n",
    "\n",
    "def __init__(self, name):\n",
    "## ??\n",
    "self.name = name\n",
    "\n",
    "\n",
    "self.pet = None\n",
    "\n",
    "## ??\n",
    "class Doctor(Person):\n",
    "\n",
    "def __init__(self, name, salary):\n",
    "## ?? hmm what is this strange magic?\n",
    "super(Doctor, self).__init__(name)\n",
    " ## ??\n",
    "self.salary = salary\n",
    "\n",
    " ## ??\n",
    "class Fish(object):\n",
    "pass\n",
    "\n",
    "## ??\n",
    "class Salmon(Fish):\n",
    "pass\n",
    "\n",
    "## ??\n",
    "class Halibut(Fish):\n",
    "pass\n",
    "\n",
    "\n",
    "## Henry is-a Elephant\n",
    "Henry = Elephant(\"Henry\")\n",
    "\n",
    " ## ??\n",
    "Jorge = Bird(\"Jorge\")\n",
    "\n",
    "## ??\n",
    "Melanie = Person(\"Melanie\")\n",
    "\n",
    "## ??\n",
    "Melanie.pet = Jorge\n",
    "\n",
    "## ??\n",
    "rank = Doctor(\"Daniel\", 120000)\n",
    "\n",
    "## ??\n",
    "daniel.pet = Henry\n",
    "\n",
    "## ??\n",
    " flipper = Fish()\n",
    "## ??\n",
    " crouse = Salmon()\n",
    "## ??\n",
    " harry = Halibut()"
   ]
  },
  {
   "cell_type": "markdown",
   "metadata": {},
   "source": [
    "# EXERCISE 43\n"
   ]
  },
  {
   "cell_type": "code",
   "execution_count": null,
   "metadata": {},
   "outputs": [],
   "source": [
    "class Scene(object):\n",
    "\n",
    "def enter(self):\n",
    "pass\n",
    "\n",
    "\n",
    "class Engine(object):\n",
    "\n",
    "def __init__(self, scene_map):\n",
    "pass\n",
    "\n",
    "def play(self):\n",
    "pass\n",
    "\n",
    "class Death(Scene):\n",
    "\n",
    "def enter(self):\n",
    "pass\n",
    "\n",
    "class CentralCorridor(Scene):\n",
    "\n",
    "def enter(self):\n",
    "pass\n",
    "\n",
    "class LaserWeaponArmory(Scene):\n",
    "\n",
    "def enter(self):\n",
    "pass\n",
    "\n",
    "class TheBridge(Scene):\n",
    "\n",
    "def enter(self):\n",
    "pass\n",
    "\n",
    "class EscapePod(Scene):\n",
    "\n",
    "def enter(self):\n",
    "    \n",
    "class Map(object):\n",
    "\n",
    "def __init__(self, start_scene):\n",
    "pass\n",
    "\n",
    "def next_scene(self, scene_name):\n",
    "pass\n",
    "\n",
    "def opening_scene(self):\n",
    "pass\n",
    "\n",
    "a_map = Map('central_corridor')\n",
    "a_game = Engine(a_map)\n",
    "a_game.play()"
   ]
  }
 ],
 "metadata": {
  "kernelspec": {
   "display_name": "Python 3",
   "language": "python",
   "name": "python3"
  },
  "language_info": {
   "codemirror_mode": {
    "name": "ipython",
    "version": 3
   },
   "file_extension": ".py",
   "mimetype": "text/x-python",
   "name": "python",
   "nbconvert_exporter": "python",
   "pygments_lexer": "ipython3",
   "version": "3.7.3"
  }
 },
 "nbformat": 4,
 "nbformat_minor": 2
}
